{
 "cells": [
  {
   "cell_type": "code",
   "execution_count": 1,
   "id": "ea57e72d",
   "metadata": {
    "_cell_guid": "b1076dfc-b9ad-4769-8c92-a6c4dae69d19",
    "_uuid": "8f2839f25d086af736a60e9eeb907d3b93b6e0e5",
    "execution": {
     "iopub.execute_input": "2024-01-21T08:44:54.782234Z",
     "iopub.status.busy": "2024-01-21T08:44:54.781873Z",
     "iopub.status.idle": "2024-01-21T08:44:55.620955Z",
     "shell.execute_reply": "2024-01-21T08:44:55.619975Z"
    },
    "papermill": {
     "duration": 0.845951,
     "end_time": "2024-01-21T08:44:55.623425",
     "exception": false,
     "start_time": "2024-01-21T08:44:54.777474",
     "status": "completed"
    },
    "tags": []
   },
   "outputs": [
    {
     "name": "stdout",
     "output_type": "stream",
     "text": [
      "/kaggle/input/follow-car-datasets/data/SPMD2_test_data.npy\n",
      "/kaggle/input/follow-car-datasets/data/Lyft_val_data.npy\n",
      "/kaggle/input/follow-car-datasets/data/SPMD1_train_data.npy\n",
      "/kaggle/input/follow-car-datasets/data/HighD_car_fol_event_set_dhw.npy\n",
      "/kaggle/input/follow-car-datasets/data/Waymo_train_data.npy\n",
      "/kaggle/input/follow-car-datasets/data/Waymo_val_data.npy\n",
      "/kaggle/input/follow-car-datasets/data/HighD_val_data.npy\n",
      "/kaggle/input/follow-car-datasets/data/waymo_filter_carfo_info_150.npy\n",
      "/kaggle/input/follow-car-datasets/data/Lyft_test_data.npy\n",
      "/kaggle/input/follow-car-datasets/data/SPMD2_train_data.npy\n",
      "/kaggle/input/follow-car-datasets/data/SPMD2_val_data.npy\n",
      "/kaggle/input/follow-car-datasets/data/SPMD_das1_car_fol_event_set.npy\n",
      "/kaggle/input/follow-car-datasets/data/SPMD1_test_data.npy\n",
      "/kaggle/input/follow-car-datasets/data/SPMD_das2_car_fol_event_set.npy\n",
      "/kaggle/input/follow-car-datasets/data/Waymo_test_data.npy\n",
      "/kaggle/input/follow-car-datasets/data/Lyft_train_data.npy\n",
      "/kaggle/input/follow-car-datasets/data/NGSIM_I_80_val_data.npy\n",
      "/kaggle/input/follow-car-datasets/data/Link.md\n",
      "/kaggle/input/follow-car-datasets/data/NGSIM_I_80_car_fol_event_set.npy\n",
      "/kaggle/input/follow-car-datasets/data/NGSIM_I_80_train_data.npy\n",
      "/kaggle/input/follow-car-datasets/data/HighD_train_data.npy\n",
      "/kaggle/input/follow-car-datasets/data/NGSIM_I_80_test_data.npy\n",
      "/kaggle/input/follow-car-datasets/data/SPMD1_val_data.npy\n",
      "/kaggle/input/follow-car-datasets/data/HighD_test_data.npy\n",
      "/kaggle/input/follow-car-datasets/data/30_seconds_car_following_data/30_HighD_test_data.npy\n",
      "/kaggle/input/follow-car-datasets/data/30_seconds_car_following_data/30_HighD_train_data.npy\n",
      "/kaggle/input/follow-car-datasets/data/30_seconds_car_following_data/30_HighD_val_data.npy\n"
     ]
    }
   ],
   "source": [
    "# This Python 3 environment comes with many helpful analytics libraries installed\n",
    "# It is defined by the kaggle/python Docker image: https://github.com/kaggle/docker-python\n",
    "# For example, here's several helpful packages to load\n",
    "\n",
    "import numpy as np # linear algebra\n",
    "import pandas as pd # data processing, CSV file I/O (e.g. pd.read_csv)\n",
    "\n",
    "# Input data files are available in the read-only \"../input/\" directory\n",
    "# For example, running this (by clicking run or pressing Shift+Enter) will list all files under the input directory\n",
    "\n",
    "import os\n",
    "for dirname, _, filenames in os.walk('/kaggle/input'):\n",
    "    for filename in filenames:\n",
    "        print(os.path.join(dirname, filename))\n",
    "\n",
    "# You can write up to 20GB to the current directory (/kaggle/working/) that gets preserved as output when you create a version using \"Save & Run All\" \n",
    "# You can also write temporary files to /kaggle/temp/, but they won't be saved outside of the current session"
   ]
  },
  {
   "cell_type": "code",
   "execution_count": 2,
   "id": "933424a9",
   "metadata": {
    "execution": {
     "iopub.execute_input": "2024-01-21T08:44:55.631553Z",
     "iopub.status.busy": "2024-01-21T08:44:55.631115Z",
     "iopub.status.idle": "2024-01-21T08:48:05.037885Z",
     "shell.execute_reply": "2024-01-21T08:48:05.036799Z"
    },
    "papermill": {
     "duration": 189.413928,
     "end_time": "2024-01-21T08:48:05.040439",
     "exception": false,
     "start_time": "2024-01-21T08:44:55.626511",
     "status": "completed"
    },
    "tags": []
   },
   "outputs": [
    {
     "name": "stdout",
     "output_type": "stream",
     "text": [
      "(1930, 4)\n",
      "cuda:0\n"
     ]
    },
    {
     "name": "stderr",
     "output_type": "stream",
     "text": [
      "/opt/conda/lib/python3.10/site-packages/torch/nn/modules/rnn.py:71: UserWarning: dropout option adds dropout after all but last recurrent layer, so non-zero dropout expects num_layers greater than 1, but got dropout=0.1 and num_layers=1\n",
      "  warnings.warn(\"dropout option adds dropout after all but last \"\n"
     ]
    },
    {
     "name": "stdout",
     "output_type": "stream",
     "text": [
      "----\n"
     ]
    },
    {
     "name": "stderr",
     "output_type": "stream",
     "text": [
      "  0%|          | 0/20 [00:00<?, ?it/s]"
     ]
    },
    {
     "name": "stdout",
     "output_type": "stream",
     "text": [
      "Epoch: 1| Train Loss: 0.7975975\n"
     ]
    },
    {
     "name": "stderr",
     "output_type": "stream",
     "text": [
      "  5%|▌         | 1/20 [00:07<02:25,  7.67s/it]"
     ]
    },
    {
     "name": "stdout",
     "output_type": "stream",
     "text": [
      "Epoch: 1| Validation error: 0.8069381\n",
      "Epoch: 2| Train Loss: 0.7160742\n"
     ]
    },
    {
     "name": "stderr",
     "output_type": "stream",
     "text": [
      " 10%|█         | 2/20 [00:14<02:10,  7.25s/it]"
     ]
    },
    {
     "name": "stdout",
     "output_type": "stream",
     "text": [
      "Epoch: 2| Validation error: 0.6542920\n",
      "Epoch: 3| Train Loss: 0.5861234\n"
     ]
    },
    {
     "name": "stderr",
     "output_type": "stream",
     "text": [
      " 15%|█▌        | 3/20 [00:21<02:01,  7.15s/it]"
     ]
    },
    {
     "name": "stdout",
     "output_type": "stream",
     "text": [
      "Epoch: 3| Validation error: 0.5829380\n",
      "Epoch: 4| Train Loss: 0.5418517\n"
     ]
    },
    {
     "name": "stderr",
     "output_type": "stream",
     "text": [
      " 20%|██        | 4/20 [00:28<01:55,  7.19s/it]"
     ]
    },
    {
     "name": "stdout",
     "output_type": "stream",
     "text": [
      "Epoch: 4| Validation error: 0.5571963\n",
      "Epoch: 5| Train Loss: 0.5203749\n"
     ]
    },
    {
     "name": "stderr",
     "output_type": "stream",
     "text": [
      " 25%|██▌       | 5/20 [00:36<01:47,  7.17s/it]"
     ]
    },
    {
     "name": "stdout",
     "output_type": "stream",
     "text": [
      "Epoch: 5| Validation error: 0.5379359\n",
      "Epoch: 6| Train Loss: 0.5100128\n"
     ]
    },
    {
     "name": "stderr",
     "output_type": "stream",
     "text": [
      " 30%|███       | 6/20 [00:42<01:39,  7.09s/it]"
     ]
    },
    {
     "name": "stdout",
     "output_type": "stream",
     "text": [
      "Epoch: 6| Validation error: 0.5339796\n",
      "Epoch: 7| Train Loss: 0.5021098\n"
     ]
    },
    {
     "name": "stderr",
     "output_type": "stream",
     "text": [
      " 35%|███▌      | 7/20 [00:49<01:31,  7.04s/it]"
     ]
    },
    {
     "name": "stdout",
     "output_type": "stream",
     "text": [
      "Epoch: 7| Validation error: 0.5253926\n",
      "Epoch: 8| Train Loss: 0.4937890\n"
     ]
    },
    {
     "name": "stderr",
     "output_type": "stream",
     "text": [
      " 40%|████      | 8/20 [00:56<01:24,  7.01s/it]"
     ]
    },
    {
     "name": "stdout",
     "output_type": "stream",
     "text": [
      "Epoch: 8| Validation error: 0.5174534\n",
      "Epoch: 9| Train Loss: 0.4871729\n"
     ]
    },
    {
     "name": "stderr",
     "output_type": "stream",
     "text": [
      " 45%|████▌     | 9/20 [01:03<01:17,  7.05s/it]"
     ]
    },
    {
     "name": "stdout",
     "output_type": "stream",
     "text": [
      "Epoch: 9| Validation error: 0.5121784\n",
      "Epoch: 10| Train Loss: 0.4811081\n"
     ]
    },
    {
     "name": "stderr",
     "output_type": "stream",
     "text": [
      " 50%|█████     | 10/20 [01:11<01:10,  7.05s/it]"
     ]
    },
    {
     "name": "stdout",
     "output_type": "stream",
     "text": [
      "Epoch: 10| Validation error: 0.5029169\n",
      "Epoch: 11| Train Loss: 0.4769694\n"
     ]
    },
    {
     "name": "stderr",
     "output_type": "stream",
     "text": [
      " 55%|█████▌    | 11/20 [01:17<01:02,  6.99s/it]"
     ]
    },
    {
     "name": "stdout",
     "output_type": "stream",
     "text": [
      "Epoch: 11| Validation error: 0.4992183\n",
      "Epoch: 12| Train Loss: 0.4693318\n"
     ]
    },
    {
     "name": "stderr",
     "output_type": "stream",
     "text": [
      " 60%|██████    | 12/20 [01:24<00:55,  6.99s/it]"
     ]
    },
    {
     "name": "stdout",
     "output_type": "stream",
     "text": [
      "Epoch: 12| Validation error: 0.4961310\n",
      "Epoch: 13| Train Loss: 0.4692738\n"
     ]
    },
    {
     "name": "stderr",
     "output_type": "stream",
     "text": [
      " 65%|██████▌   | 13/20 [01:32<00:49,  7.05s/it]"
     ]
    },
    {
     "name": "stdout",
     "output_type": "stream",
     "text": [
      "Epoch: 13| Validation error: 0.4897122\n",
      "Epoch: 14| Train Loss: 0.4629548\n"
     ]
    },
    {
     "name": "stderr",
     "output_type": "stream",
     "text": [
      " 70%|███████   | 14/20 [01:39<00:42,  7.04s/it]"
     ]
    },
    {
     "name": "stdout",
     "output_type": "stream",
     "text": [
      "Epoch: 14| Validation error: 0.4847336\n",
      "Epoch: 15| Train Loss: 0.4570575\n"
     ]
    },
    {
     "name": "stderr",
     "output_type": "stream",
     "text": [
      " 75%|███████▌  | 15/20 [01:46<00:35,  7.03s/it]"
     ]
    },
    {
     "name": "stdout",
     "output_type": "stream",
     "text": [
      "Epoch: 15| Validation error: 0.4842580\n",
      "Epoch: 16| Train Loss: 0.4541854\n"
     ]
    },
    {
     "name": "stderr",
     "output_type": "stream",
     "text": [
      " 80%|████████  | 16/20 [01:53<00:28,  7.01s/it]"
     ]
    },
    {
     "name": "stdout",
     "output_type": "stream",
     "text": [
      "Epoch: 16| Validation error: 0.4732680\n",
      "Epoch: 17| Train Loss: 0.4477981\n"
     ]
    },
    {
     "name": "stderr",
     "output_type": "stream",
     "text": [
      " 85%|████████▌ | 17/20 [02:00<00:21,  7.02s/it]"
     ]
    },
    {
     "name": "stdout",
     "output_type": "stream",
     "text": [
      "Epoch: 17| Validation error: 0.4713994\n",
      "Epoch: 18| Train Loss: 0.4428303\n"
     ]
    },
    {
     "name": "stderr",
     "output_type": "stream",
     "text": [
      " 90%|█████████ | 18/20 [02:07<00:14,  7.03s/it]"
     ]
    },
    {
     "name": "stdout",
     "output_type": "stream",
     "text": [
      "Epoch: 18| Validation error: 0.4689594\n",
      "Epoch: 19| Train Loss: 0.4369253\n"
     ]
    },
    {
     "name": "stderr",
     "output_type": "stream",
     "text": [
      " 95%|█████████▌| 19/20 [02:14<00:07,  7.01s/it]"
     ]
    },
    {
     "name": "stdout",
     "output_type": "stream",
     "text": [
      "Epoch: 19| Validation error: 0.4594448\n",
      "Epoch: 20| Train Loss: 0.4327488\n"
     ]
    },
    {
     "name": "stderr",
     "output_type": "stream",
     "text": [
      "100%|██████████| 20/20 [02:21<00:00,  7.06s/it]"
     ]
    },
    {
     "name": "stdout",
     "output_type": "stream",
     "text": [
      "Epoch: 20| Validation error: 0.4574178\n"
     ]
    },
    {
     "name": "stderr",
     "output_type": "stream",
     "text": [
      "\n"
     ]
    },
    {
     "name": "stdout",
     "output_type": "stream",
     "text": [
      "mean_test_error 19.842979219224716\n"
     ]
    },
    {
     "name": "stderr",
     "output_type": "stream",
     "text": [
      "289it [00:36,  7.89it/s]\n"
     ]
    },
    {
     "name": "stdout",
     "output_type": "stream",
     "text": [
      "count= 289 col= 0 rate 0.0 jerk 0.37547868 miniumu_ttc 17.71011\n",
      "mean_test_error 19.835691220358314\n"
     ]
    },
    {
     "data": {
      "image/png": "[encoded data removed]",
      "text/plain": [
       "<Figure size 640x480 with 1 Axes>"
      ]
     },
     "metadata": {},
     "output_type": "display_data"
    },
    {
     "data": {
      "image/png": "[encoded data removed]",
      "text/plain": [
       "<Figure size 640x480 with 1 Axes>"
      ]
     },
     "metadata": {},
     "output_type": "display_data"
    }
   ],
   "source": [
    "from torch import nn, optim\n",
    "import torch\n",
    "import torch.nn as nnn\n",
    "from torch.utils.data import DataLoader\n",
    "import numpy as np\n",
    "from tqdm import tqdm\n",
    "import matplotlib.pyplot as plt\n",
    "from functools import partial\n",
    "\n",
    "\n",
    "ACC_LIMIT = 3 # the limit of acceleration, this can be calibrated based on the data 加速度极限\n",
    "# Ts = 0.04 # time interval for data sampling for HighD is 0.04 for other datasets are 0.1 数据采样时间间隔 15/375s\n",
    "Ts = 0.1\n",
    "\n",
    "# load data    加载包含Python对象的.npy或.npz文件，需要显式地设置allow_pickle参数为True\n",
    "HighD_data = np.load('/kaggle/input/follow-car-datasets/data/HighD_car_fol_event_set_dhw.npy', allow_pickle=True)\n",
    "NGSIM_data = np.load('/kaggle/input/follow-car-datasets/data/NGSIM_I_80_car_fol_event_set.npy', allow_pickle=True)\n",
    "SPMD_DAS1_data = np.load('/kaggle/input/follow-car-datasets/data/SPMD_das1_car_fol_event_set.npy', allow_pickle=True)\n",
    "SPMD_DAS2_data = np.load('/kaggle/input/follow-car-datasets/data/SPMD_das2_car_fol_event_set.npy', allow_pickle=True)\n",
    "waymo_data = np.load('/kaggle/input/follow-car-datasets/data/waymo_filter_carfo_info_150.npy', allow_pickle=True)\n",
    "car_following_data = NGSIM_data\n",
    "# the data shape format (number of car following event, 4 dimension data, lenth of each dimension)数据形状格式（跟车事件的车辆数、4 维数据、各维数据的长度）\n",
    "# 4 dimension data= [spacing, subject_vehicle_speed, relative_speed, leading_vehicle_speed]4 维数据= [车距、后车车速、相对车速、前车车速］\n",
    "# print(car_following_data)\n",
    "print(car_following_data.shape)   # (12541, 4, 375)\n",
    "\n",
    "# # 除HighD的数据集需要进行连接\n",
    "# def car_stack(data):\n",
    "#     # 创建一个空的目标数组，形状为 (1930, 4, 600)\n",
    "#     target_shape = (data.shape[0], data.shape[1], data[0, 0].shape[0])\n",
    "#     target_array = np.empty(target_shape)\n",
    "\n",
    "#     # 遍历原始数组，将每个元素转换为 (4, 600) 的子数组，并放入目标数组\n",
    "#     for i in range(data.shape[0]):\n",
    "#         for j in range(data.shape[1]):\n",
    "#             target_array[i, j, :] = data[i, j]\n",
    "#     # 最终 target_array 的形状为 (1930, 4, 600)\n",
    "#     return target_array\n",
    "\n",
    "\n",
    "# split the date into train, validation, test 数据集划分\n",
    "def split_train(data,test_ratio,val_ratio):\n",
    "    np.random.seed(43)\n",
    "    # 随机排列数据集的索引\n",
    "    shuffled_indices=np.random.permutation(len(data))\n",
    "    # 根据输入百分比（test_ratio）计算测试集大小\n",
    "    test_set_size=int(len(data)*test_ratio)\n",
    "    # 根据输入百分比（val_ratio）计算验证集大小\n",
    "    val_number=int(len(data)*(test_ratio+val_ratio))\n",
    "    # 根据索引划分数据集\n",
    "    test_indices =shuffled_indices[:test_set_size] # 测试 (1881)\n",
    "    val_indices=shuffled_indices[test_set_size:val_number] # 验证 (1881)\n",
    "    train_indices=shuffled_indices[val_number:] # 训练 (8779)\n",
    "    return data[train_indices],data[test_indices],data[val_indices]\n",
    "# np.warnings.filterwarnings('ignore', category=np.VisibleDeprecationWarning)\n",
    "\n",
    "\n",
    "# Define NN and lstm models\n",
    "# max_len = 375 # for HighD dataset is 375 for others are 150\n",
    "max_len = 150\n",
    "\n",
    "class ImitationCarFolData(torch.utils.data.Dataset):\n",
    "    \"\"\"\n",
    "    Dataset class for imitation learning (state -> action fitting) based car-following models.\n",
    "    \"\"\"\n",
    "    def __init__(self, split: str, max_len = max_len):\n",
    "        if split == 'train':\n",
    "            self.data = train_data\n",
    "        elif split == 'test':\n",
    "            self.data = test_data\n",
    "        elif split == 'validation':\n",
    "            self.data = val_data\n",
    "        self.max_len = max_len # Max length of a car following event.\n",
    "\n",
    "    def __len__(self):\n",
    "        return len(self.data)\n",
    "\n",
    "    def __getitem__(self, idx: int):\n",
    "        # 获取数据集中指定索引的车辆跟驰事件\n",
    "        event = self.data[idx]\n",
    "        # 截取事件中的除最后一项的前 max_len-1 个时间步\n",
    "        sv = event[1][:self.max_len] # 后车速度\n",
    "        lv = event[3][:self.max_len] # 前车速度\n",
    "        spacing = event[0][:self.max_len] # 车距\n",
    "        relSpeed = event[2][:self.max_len] # 相对速度\n",
    "        # 构建输入数据，包括 spacing, sv, relSpeed\n",
    "        inputs = [spacing[:-1], sv[:-1], relSpeed[:-1]]\n",
    "        # 计算加速度标签（当前速度减去上一个时间步的速度）\n",
    "        acc_label = np.diff(sv) / Ts\n",
    "        # 保存 lv 作为速度标签\n",
    "        lv_spd = lv\n",
    "        return {'inputs': inputs, 'label': acc_label, 'lv_spd': lv_spd}\n",
    "\n",
    "# Define data-driven car-following models\n",
    "class nn_model(nn.Module):\n",
    "    def __init__(self, input_size = 3, hidden_size = 256):\n",
    "        super(nn_model, self).__init__()\n",
    "        self.encoder = nn.Sequential(\n",
    "            nn.Linear(input_size, hidden_size),\n",
    "            nn.ReLU(),\n",
    "            nn.Linear(hidden_size, hidden_size),\n",
    "            nn.ReLU(),\n",
    "            nn.Linear(hidden_size, 1),\n",
    "            nn.Tanh(),\n",
    "            )\n",
    "\n",
    "    def forward(self, x):\n",
    "        out = ACC_LIMIT*self.encoder(x)\n",
    "        return out\n",
    "\n",
    "class lstm_model(nn.Module):\n",
    "    # https://pytorch.org/docs/stable/generated/torch.nn.LSTM.html\n",
    "    def __init__(self, input_size=3, hidden_size=16, lstm_layers=1, dropout=0.1):\n",
    "        super(lstm_model, self).__init__()\n",
    "        # LSTM编码器，接受输入序列并输出隐藏状态\n",
    "        self.encoder = nn.LSTM(input_size, hidden_size, lstm_layers, batch_first=False, dropout=dropout)\n",
    "        # 线性层，将LSTM的输出映射到1维\n",
    "        # self.linear = nn.Linear(hidden_size, 1)\n",
    "        self.linear1 = nn.Linear(hidden_size, hidden_size)\n",
    "        self.linear2 = nn.Linear(hidden_size, 1)\n",
    "        self.relu = nnn.ReLU(inplace=True)\n",
    "        # 初始化线性层的权重和偏置\n",
    "        nn.init.normal_(self.linear1.weight, 0, 0.02)\n",
    "        nn.init.constant_(self.linear1.bias, 0.0)\n",
    "        nn.init.normal_(self.linear2.weight, 0, 0.02)\n",
    "        nn.init.constant_(self.linear2.bias, 0.0)\n",
    "    # LSTM 模型由编码器和线性层组成。编码器接收输入数据并计算编码表示和最终层的隐藏状态。\n",
    "    # 随后，线性层层将隐藏状态映射到输出值，输出值经过 tanh 激活函数并乘以代表加速度极限的常数\n",
    "    def forward(self, src):\n",
    "        # 将输入序列通过LSTM编码器得到隐藏状态  src(10,32,3)\n",
    "        # enc_x(10,32,16)是模型在每个时间步的输出，(h_n, c_n)((1,32,16), (1,32,16))) 是模型的隐藏状态和记忆单元状态\n",
    "        enc_x, (h_n, c_n) = self.encoder(src)\n",
    "        # 如果隐藏状态的维度为3，则取最后一层的隐藏状态 即(batch_size, hidden_size)\n",
    "        if len(h_n.shape) == 3:\n",
    "            h_n = h_n[-1] # (32,16)\n",
    "        # 通过线性层和激活函数得到最终输出\n",
    "        out_0 = self.linear1(h_n) # (32,16)\n",
    "        out = self.linear2(self.relu(out_0)) # (32, 1)\n",
    "        # out = self.linear(h_n)\n",
    "        # out = torch.tanh(out) * ACC_LIMIT\n",
    "        return out\n",
    "\n",
    "\n",
    "# Train\n",
    "# 获取划分数据集\n",
    "# (8779,4,375)，(1881,4,375)，(1881,4,375)\n",
    "train_data, test_data, val_data = split_train(car_following_data,0.15,0.15)\n",
    "dataset = 'HighD'\n",
    "model_type = 'lstm'\n",
    "batch_size = 32\n",
    "total_epochs = 20\n",
    "# 创建训练集 DataLoader\n",
    "train_dataset = ImitationCarFolData(split = 'train')\n",
    "train_loader = DataLoader(\n",
    "        train_dataset,\n",
    "        batch_size=batch_size,\n",
    "        shuffle=True,\n",
    "        num_workers=1,\n",
    "        drop_last=True)\n",
    "# 创建验证集 DataLoader\n",
    "validation_dataset = ImitationCarFolData(split = 'validation')\n",
    "validation_loader = DataLoader(\n",
    "        validation_dataset ,\n",
    "        batch_size=batch_size,\n",
    "        shuffle=True,\n",
    "        num_workers=1,\n",
    "        drop_last=True)\n",
    "# 创建测试集 DataLoader\n",
    "test_dataset = ImitationCarFolData(split = 'test')\n",
    "test_loader = DataLoader(\n",
    "        test_dataset,\n",
    "        batch_size=batch_size,\n",
    "        shuffle=True,\n",
    "        num_workers=1,\n",
    "        drop_last=True)\n",
    "\n",
    "# 使用训练设备\n",
    "device = torch.device(\"cuda:0\" if torch.cuda.is_available() else \"cpu\")\n",
    "print(device)\n",
    "\n",
    "his_horizon = 10 # number of time steps as history data\n",
    "lr = 1e-3 # learning rate\n",
    "save = f'{model_type}_{dataset}.pt' # 保存模型文件\n",
    "# 根据名称定义模型\n",
    "if model_type == 'nn':\n",
    "    model = nn_model(input_size = his_horizon*3).to(device)\n",
    "elif model_type == 'lstm':\n",
    "    model = lstm_model(input_size = 3, lstm_layers = 1).to(device) # single layer lstm\n",
    "# 定义优化器和损失函数\n",
    "model_optim = optim.Adam(model.parameters(), lr=lr)\n",
    "criterion = nn.MSELoss()\n",
    "\n",
    "# 初始化变量\n",
    "train_loss_his = [] # 训练损失\n",
    "test_error_his = [] # 测试误差\n",
    "validation_error_his = [] # 验证误差\n",
    "best_train_loss = None # 最佳训练损失\n",
    "best_validation_loss = None # 最佳验证损失\n",
    "\n",
    "\n",
    "print(\"----\")\n",
    "# 训练过程\n",
    "for epoch in tqdm(range(total_epochs)):\n",
    "    train_losses = [] # 记录每个epoch的训练损失\n",
    "    validation_losses = [] # 记录每个epoch的验证损失\n",
    "    model.train()\n",
    "    # 遍历数据集\n",
    "    for i, item in enumerate(train_loader):\n",
    "        # x_data, y_data = item['inputs'].float().to(device), item['label'].float().to(device)\n",
    "        # 获取输入数据及标签，input包括[距离，后车速度，相对速度]，label为加速度\n",
    "        x_data, y_data = item['inputs'], item['label'] # x_data((32,374)，(32,374)，(32,374))  y_data(32,374)\n",
    "        # Put T into the first dimension, B, T, d -> T, B, d\n",
    "        # 将x_data中3个(32,374)连接，转换成(3,32,374)\n",
    "        x_data = torch.stack(x_data)\n",
    "        # x_data, y_data = x_data.transpose(0, 1), y_data.transpose(0, 1)\n",
    "        # x->(374,32,3)，y->(374,32)\n",
    "        x_data, y_data = x_data.transpose(0, 2).float().to(device), y_data.transpose(0, 1).float().to(device)\n",
    "\n",
    "        T, B, d = x_data.shape # (total steps, batch_size, d) as the shape of the data\n",
    "\n",
    "        y_pre = torch.zeros(T - his_horizon, B).cuda() # 存储预测加速度 (364,32)\n",
    "        y_label = y_data[his_horizon:] # 存储从his_horizon开始的真实加速度 (364,32)\n",
    "        # 从历史数据时间步开始遍历\n",
    "        for frame in range(his_horizon, T):\n",
    "            x = x_data[frame-his_horizon:frame] # (his_horizon, B, d) (10,32,3)\n",
    "            if model_type == 'nn':\n",
    "                x = x.transpose(0,1).reshape(B, -1) # flatten for history data\n",
    "            # 根据his_horizon个数据预测加速度\n",
    "            acc_pre = model(x).squeeze() # (32)\n",
    "            y_pre[frame - his_horizon] = acc_pre\n",
    "        #计算损失并进行反传及优化\n",
    "        loss = criterion(y_pre, y_label)\n",
    "        model_optim.zero_grad()\n",
    "        loss.backward()\n",
    "        torch.nn.utils.clip_grad_norm_(model.parameters(), 0.25) # 对模型梯度进行裁剪，避免梯度爆炸\n",
    "        model_optim.step()\n",
    "\n",
    "        train_losses.append(loss.item())\n",
    "    # 计算本轮平均损失\n",
    "    train_loss = np.mean(train_losses)\n",
    "\n",
    "    train_loss_his.append(train_loss)\n",
    "    print(\"Epoch: {0}| Train Loss: {1:.7f}\".format(epoch + 1, train_loss))\n",
    "\n",
    "    # 验证过程\n",
    "    model.eval()\n",
    "    error_list = []\n",
    "    for i, item in enumerate(validation_loader):\n",
    "        x_data, y_data = item['inputs'], item['label']\n",
    "        # Put T into the first dimension, B, T, d -> T, B, d\n",
    "        x_data = torch.stack(x_data)\n",
    "        # x_data, y_data = x_data.transpose(0, 1), y_data.transpose(0, 1)\n",
    "        x_data, y_data = x_data.transpose(0, 2).float().to(device), y_data.transpose(0, 1).float().to(device)\n",
    "        # lv_spd = item['lv_spd'].float().to(device).transpose(0, 1)\n",
    "        T, B, d = x_data.shape # (total steps, batch_size, d) as the shape of the data\n",
    "        # save a copy of x_data\n",
    "        x_data_orig = x_data.clone().detach()\n",
    "        y_label = y_data[his_horizon:]\n",
    "        for frame in range(his_horizon, T):\n",
    "            x = x_data[frame-his_horizon:frame] # (his_horizon, B, d)\n",
    "            if model_type == 'nn':\n",
    "              x = x.transpose(0,1).reshape(B, -1) # flatten for history data\n",
    "\n",
    "            acc_pre = model(x).squeeze()\n",
    "            y_pre[frame - his_horizon] = acc_pre\n",
    "        validation_loss = criterion(y_pre, y_label)\n",
    "        model_optim.zero_grad()\n",
    "        torch.nn.utils.clip_grad_norm_(model.parameters(), 0.25)\n",
    "        model_optim.step()\n",
    "        validation_losses.append(validation_loss.item())\n",
    "    # 计算平均验证误差\n",
    "    mean_validation_error = np.mean(validation_losses)\n",
    "    if best_validation_loss is None or best_validation_loss > mean_validation_error:\n",
    "        best_validation_loss = mean_validation_error\n",
    "        # save the best model\n",
    "        with open(save, 'wb') as f:\n",
    "            torch.save(model, f)\n",
    "\n",
    "    validation_error_his.append(mean_validation_error)\n",
    "    print(\"Epoch: {0}| Validation error: {1:.7f}\".format(epoch + 1, mean_validation_error))\n",
    "\n",
    "\n",
    "plt.plot(train_loss_his)\n",
    "plt.xlabel('Epoch')\n",
    "plt.ylabel('Train loss (MSE for acceleration prediction)')\n",
    "\n",
    "\n",
    "# Testing, closed-loop prediction\n",
    "# Load the best model saved\n",
    "with open(f'{save}', 'rb') as f:\n",
    "    model = torch.load(f).to(device)\n",
    "model.eval()\n",
    "\n",
    "error_list = []\n",
    "\n",
    "for i, item in enumerate(test_loader):\n",
    "    x_data, y_data = item['inputs'], item['label'] # x_data((32,374)，(32,374)，(32,374))  y_data(32,374)\n",
    "    # Put T into the first dimension, B, T, d -> T, B, d\n",
    "    x_data = torch.stack(x_data) # (3,32,374)\n",
    "    # x_data, y_data = x_data.transpose(0, 1), y_data.transpose(0, 1)\n",
    "    x_data, y_data = x_data.transpose(0, 2).float().to(device), y_data.transpose(0, 1).float().to(device) # x(374,32,3)  y(374,32)\n",
    "    # 获取前车速度\n",
    "    lv_spd = item['lv_spd'].float().to(device).transpose(0, 1) # (375,32)\n",
    "\n",
    "    T, B, d = x_data.shape # (total steps, batch_size, d) as the shape of the data\n",
    "\n",
    "    # save a copy of x_data\n",
    "    x_data_orig = x_data.clone().detach() # (374,32,3)\n",
    "\n",
    "    for frame in range(his_horizon, T):\n",
    "        x = x_data[frame-his_horizon:frame] # (his_horizon, B, d) (10,32,3)\n",
    "        if model_type == 'nn':\n",
    "          x = x.transpose(0,1).reshape(B, -1) # flatten for history data\n",
    "\n",
    "        acc_pre = model(x).squeeze() # (32,1)\n",
    "\n",
    "        # update next data\n",
    "        # 根据前一次计算得到的值，计算后面的值\n",
    "        if frame < T-1:\n",
    "            # 根据当前速度和加速度计算下一时间速度\n",
    "            sv_spd_ = x_data[frame, :, 1] + acc_pre*Ts # (32)\n",
    "            # 计算下一时间速度的相对速度\n",
    "            delta_v_ = lv_spd[frame + 1] - sv_spd_ # (32)\n",
    "            # 该时刻真实相对速度\n",
    "            delta_v = x_data[frame, :, -1] # (32)\n",
    "            # 通过两车车距加上相对位移得到下一时间段车距 ？\n",
    "            spacing_ = x_data[frame, :, 0] + Ts*(delta_v + delta_v_)/2 # (32)\n",
    "\n",
    "            # update 根据计算得到的值，更新下一时间的值\n",
    "            next_frame_data = torch.stack((spacing_, sv_spd_, delta_v_)).transpose(0, 1) # B, 3\n",
    "            x_data[frame + 1] = next_frame_data\n",
    "\n",
    "    # Calculating spacing error for the closed-loop simulation\n",
    "    # 预测的车距\n",
    "    spacing_pre = x_data[..., 0] # (374,32)\n",
    "    # 真实的车距\n",
    "    spacing_obs = x_data_orig[..., 0] # (374,32)\n",
    "\n",
    "    error = criterion(spacing_pre, spacing_obs).item()\n",
    "    error_list.append(error)\n",
    "model.train()\n",
    "# 计算MSE - 间距均方误差（Mean square error of spacing）\n",
    "mean_test_error = np.mean(error_list)\n",
    "print('mean_test_error',mean_test_error)\n",
    "\n",
    "\n",
    "# plot for one event\n",
    "event_no = 2\n",
    "plt.plot(spacing_obs[:, event_no].cpu().detach().numpy(), label = 'GT')\n",
    "plt.plot(spacing_pre[:, event_no].cpu().detach().numpy(), '--', label = 'prediction')\n",
    "plt.legend()\n",
    "plt.xlabel(f'Time ({Ts}s)')\n",
    "plt.ylabel('Spacing (m)')\n",
    "\n",
    "# speed part\n",
    "plt.figure()\n",
    "plt.plot(x_data_orig[:, event_no, 1].cpu().detach().numpy(), label = 'GT')\n",
    "plt.plot(x_data[:, event_no, 1].cpu().detach().numpy(), '--', label = 'prediction')\n",
    "plt.legend()\n",
    "plt.xlabel(f'Time ({Ts}s)')\n",
    "plt.ylabel('SV speed (m/s)')\n",
    "\n",
    "\n",
    "# Updated for the four key elvaluation metrics.  Note that: The loss design in FollowNet is for the reduction of the mse of spacing.\n",
    "# Please note that The TTC results presented in the table of the paper indicate the average TTC value calculated.\n",
    "# However, a drawback of this approach is that if the relative velocity in just one frame is extremely small, it will result in a significantly large computed TTC when reproducing paper.\n",
    "# To address this issue, it may be beneficial to consider plotting the distribution of TTC as a way to present the results.\n",
    "# 间距均方误差（Mean square error of spacing (MSE))\n",
    "# 碰撞率（Collision rate）\n",
    "# 驾驶舒适度指标(颠簸)（Driving comfort metric (jerk)）\n",
    "# 碰撞时间(TTC)指标（Time-To-Collision (TTC) metric）\n",
    "# for test\n",
    "# 创建测试集 DataLoader\n",
    "batch_size = 1\n",
    "test_dataset = ImitationCarFolData(split = 'test')\n",
    "test_loader = DataLoader(\n",
    "        test_dataset,\n",
    "        batch_size=batch_size,\n",
    "        shuffle=True,\n",
    "        num_workers=1,\n",
    "        drop_last=True)\n",
    "# 记录跟车事件数和发生碰撞事件数\n",
    "count = 0\n",
    "col = 0\n",
    "jerk_set = [] \n",
    "# TTC_set = []\n",
    "minimum_ttc_set = []\n",
    "model.eval()\n",
    "# ttc = [1, 2, 3, 4, 5, 6, 7, 8, -1, -3, 7]\n",
    "def calculate_safety(ttc):\n",
    "    # Remove any negative values (assuming TTC cannot be negative)\n",
    "    ttc = [x for x in ttc if x >= 0]\n",
    "    # 计算ttc中最小值\n",
    "    minimum_ttc = min(ttc)\n",
    "    # 计算ttc中第1百分位的值\n",
    "    first_percentile_ttc = np.percentile(ttc, 1)\n",
    "    # print(1111)\n",
    "    return minimum_ttc, first_percentile_ttc\n",
    "\n",
    "# # Example usage\n",
    "# minimum_ttc, first_percentile_ttc = calculate_safety(ttc)\n",
    "# print(\"Minimum TTC:\", minimum_ttc)\n",
    "# print(\"1st Percentile TTC:\", first_percentile_ttc)\n",
    "\n",
    "for i, item in tqdm(enumerate(test_loader)):\n",
    "\n",
    "    # jerk\n",
    "    # jerk = np.diff(sv)/Ts\n",
    "    acc_single = []\n",
    "    TTC_single = []\n",
    "\n",
    "    count += 1\n",
    "    x_data, y_data = item['inputs'], item['label']\n",
    "    # Put T into the first dimension, B, T, d -> T, B, d\n",
    "    x_data = torch.stack(x_data)\n",
    "    # x_data, y_data = x_data.transpose(0, 1), y_data.transpose(0, 1)\n",
    "    x_data, y_data = x_data.transpose(0, 2).float().to(device), y_data.transpose(0, 1).float().to(device)\n",
    "\n",
    "    lv_spd = item['lv_spd'].float().to(device).transpose(0, 1)\n",
    "\n",
    "    T, B, d = x_data.shape # (total steps, batch_size, d) as the shape of the data\n",
    "\n",
    "    # save a copy of x_data\n",
    "    x_data_orig = x_data.clone().detach()\n",
    "\n",
    "    for frame in range(his_horizon, T):\n",
    "        x = x_data[frame-his_horizon:frame] # (his_horizon, B, d)\n",
    "        if model_type == 'nn':\n",
    "          x = x.transpose(0,1).reshape(B, -1) # flatten for history data\n",
    "\n",
    "        acc_pre = model(x).squeeze()\n",
    "\n",
    "        acc_single.append(acc_pre)\n",
    "\n",
    "        # update next data\n",
    "        if frame < T-1:\n",
    "            sv_spd_ = x_data[frame, :, 1] + acc_pre*Ts\n",
    "            # print(sv_spd_)\n",
    "            MyDevice = torch.device('cuda:0')\n",
    "            # 速度取值大于0.001的\n",
    "            sv_spd_ = torch.tensor(np.maximum(np.array(sv_spd_.detach().cpu()),0.001), device=MyDevice)\n",
    "            delta_v_ = lv_spd[frame + 1] - sv_spd_\n",
    "            delta_v = x_data[frame, :, -1]\n",
    "            spacing_ = x_data[frame, :, 0] + Ts*(delta_v + delta_v_)/2\n",
    "\n",
    "            spacing = np.array(spacing_.cpu())\n",
    "            # 如果spacing<=0，表示发生碰撞\n",
    "            if all(float(element) <= 0 for element in spacing):\n",
    "                col += 1\n",
    "                break\n",
    "            next_frame_data = torch.stack((spacing_, sv_spd_, delta_v_)).transpose(0, 1) # B, 3\n",
    "            x_data[frame + 1] = next_frame_data\n",
    "        # 计算TTC\n",
    "        TTC_single.append(-spacing_ / delta_v_)\n",
    "\n",
    "    # Mean absolute jerk\n",
    "    jerk =np.mean(np.abs(np.diff(torch.tensor(acc_single))/Ts))\n",
    "\n",
    "    # if np.sum(torch.tensor(TTC_single).cuda().cpu().numpy()>0) == 0:\n",
    "    #     continue\n",
    "    TTC_single = torch.tensor(TTC_single).cuda().cpu().numpy()\n",
    "    TTC_single = [x for x in TTC_single if x >= 0]\n",
    "    if len(TTC_single) > 0:\n",
    "        minimum_ttc, _ = calculate_safety(TTC_single)\n",
    "        minimum_ttc_set.append(minimum_ttc)\n",
    "\n",
    "    # Calculating spacing error for the closed-loop simulation\n",
    "    # 预测车距\n",
    "    spacing_pre = x_data[..., 0]\n",
    "    # 真实车距\n",
    "    spacing_obs = x_data_orig[..., 0]\n",
    "\n",
    "    # plt.plot(np.array(spacing_obs.cpu()), label = 'GT')\n",
    "    # plt.plot(np.array(spacing_pre.cpu()), '--', label = 'Prediction')\n",
    "    # plt.legend()\n",
    "    # plt.xlabel(f'Time ({Ts}s)');\n",
    "    # plt.ylabel('Spacing (m)');\n",
    "    # plt.show()\n",
    "    error = criterion(spacing_pre[:(frame+1)], spacing_obs[:(frame+1)]).item()\n",
    "    error_list.append(error)\n",
    "\n",
    "    jerk_set.append(jerk)\n",
    "# 输出指标\n",
    "print(\"count=\",count,\"col=\",col,\"rate\",col/count,\"jerk\", np.mean(jerk_set), \"miniumu_ttc\", np.mean(minimum_ttc_set))\n",
    "model.train()\n",
    "mean_test_error = np.mean(error_list)\n",
    "print('mean_test_error',mean_test_error)"
   ]
  },
  {
   "cell_type": "code",
   "execution_count": 3,
   "id": "c9ae7ba9",
   "metadata": {
    "execution": {
     "iopub.execute_input": "2024-01-21T08:48:05.108431Z",
     "iopub.status.busy": "2024-01-21T08:48:05.107941Z",
     "iopub.status.idle": "2024-01-21T08:48:07.882256Z",
     "shell.execute_reply": "2024-01-21T08:48:07.881176Z"
    },
    "papermill": {
     "duration": 2.811455,
     "end_time": "2024-01-21T08:48:07.884507",
     "exception": false,
     "start_time": "2024-01-21T08:48:05.073052",
     "status": "completed"
    },
    "tags": []
   },
   "outputs": [
    {
     "name": "stdout",
     "output_type": "stream",
     "text": [
      "[199, 198, 197, 199, 199, 198, 198, 198, 198, 199, 199, 199, 199, 198, 198, 198, 198, 198, 198, 198, 199, 199, 199, 199, 199, 198, 199, 198, 198, 198, 199, 199, 199, 198, 199, 198, 198, 198, 198, 198, 198, 199, 198, 198, 199, 199, 199, 199, 198, 198, 198, 198, 198, 199, 199, 198, 198, 198, 198, 154, 157, 190, 198, 198, 198, 199, 199, 199, 199, 199, 167, 198, 198, 198, 198, 198, 198, 198, 198, 198, 198, 166, 198, 198, 198, 198, 199, 199, 199, 199, 199, 199, 199, 169, 199, 199, 199, 198, 198, 199, 199, 199, 199, 199, 199, 199, 199, 199, 199, 199, 199, 199, 199, 199, 199, 198, 198, 198, 198, 198, 198, 198, 198, 198, 198, 199, 198, 198, 198, 199, 198, 199, 199, 199, 198, 198, 198, 198, 199, 198, 198, 199, 197, 197, 197, 198, 198, 198, 198, 198, 199, 199, 198, 198, 199, 198, 199, 199, 199, 198, 198, 198, 198, 198, 199, 198, 199, 198, 198, 199, 199, 199, 199, 198, 198, 198, 198, 199, 199, 198, 198, 199, 198, 198, 198, 199, 199, 199, 198, 198, 199, 199, 198, 198, 198, 198, 198, 198, 197, 197, 197, 197, 197, 197, 199, 199, 199, 199, 199, 199, 197, 197, 198, 197, 197, 197, 182, 198, 198, 198, 161, 198, 198, 198, 198, 190, 190, 198, 198, 198, 198, 198, 198, 199, 199, 199, 199, 199, 199, 199, 199, 198, 199, 199, 199, 199, 199, 199, 176, 176, 199, 199, 199, 199, 199, 199, 199, 199, 199, 199, 199, 199, 189, 189, 199, 199, 171, 199, 199, 199, 199, 199, 199, 199, 199, 199, 198, 198, 188, 198, 150, 169, 198, 199, 199, 199, 198, 198, 198, 199, 199, 199, 198, 199, 199, 199, 199, 198, 198, 198, 199, 198, 199, 199, 199, 199, 198, 199, 199, 199, 199, 199, 199, 199, 199, 199, 198, 198, 199, 198, 199, 198, 199, 198, 199, 199, 199, 199, 198, 198, 173, 198, 198, 198, 198, 198, 199, 198, 198, 198, 199, 199, 197, 199, 199, 199, 199, 198, 198, 199, 199, 199, 199, 199, 199, 199, 199, 199, 199, 199, 199, 199, 199, 199, 199, 199, 198, 199, 199, 179, 199, 199, 198, 198, 198, 198, 198, 184, 199, 199, 198, 173, 198, 198, 198, 198, 198, 198, 198, 197, 198, 198, 199, 199, 199, 199, 199, 198, 199, 199, 198, 198, 199, 199, 198, 198, 198, 198, 198, 199, 199, 199, 199, 198, 198, 198, 198, 199, 198, 198, 198, 198, 198, 199, 198, 198, 199, 199, 199, 198, 198, 199, 199, 197, 168, 197, 197, 199, 198, 199, 199, 197, 199, 198, 198, 199, 199, 199, 199, 198, 198, 199, 183, 199, 199, 199, 199, 199, 198, 198, 198, 198, 163, 199, 199, 199, 198, 198, 199, 199, 198, 199, 199, 199, 199, 199, 199, 199, 199, 199, 199, 199, 194, 199, 198, 198, 198, 198, 198, 194, 194, 198, 198, 198, 198, 198, 195, 195, 198, 198, 197, 198, 198, 199, 199, 197, 198, 198, 198, 198, 198, 199, 180, 175, 198, 198, 198, 199, 199, 187, 199, 199, 197, 193, 199, 199, 199, 198, 198, 198, 199, 199, 199, 199, 199, 199, 198, 198, 199, 198, 199, 198, 198, 198, 198, 199, 199, 199, 199, 198, 198, 198, 198, 198, 198, 199, 199, 198, 198, 199, 199, 198, 198, 199, 198, 199, 198, 198, 198, 197, 198, 198, 199, 198, 198, 198, 198, 198, 199, 199, 199, 199, 198, 198, 199, 199, 198, 198, 198, 198, 198, 199, 199, 199, 190, 198, 198, 198, 198, 198, 198, 198, 198, 198, 198, 198, 198, 198, 198, 198, 198, 198, 198, 198, 198, 180, 198, 198, 199, 199, 199, 198, 198, 198, 198, 198, 198, 198, 198, 198, 181, 198, 198, 150, 199, 199, 199, 199, 169, 185, 199, 198, 198, 198, 198, 199, 198, 198, 198, 198, 198, 198, 198, 198, 198, 198, 198, 198, 198, 198, 198, 198, 198, 198, 198, 198, 198, 197, 177, 190, 168, 198, 198, 198, 198, 198, 198, 198, 180, 198, 198, 198, 199, 199, 198, 198, 198, 198, 199, 199, 198, 196, 198, 199, 198, 199, 198, 199, 199, 199, 199, 198, 199, 199, 199, 198, 198, 198, 198, 199, 199, 199, 199, 199, 198, 198, 199, 199, 198, 198, 199, 199, 198, 199, 199, 199, 198, 198, 198, 198, 199, 199, 199, 199, 193, 199, 199, 199, 198, 199, 199, 199, 199, 199, 199, 199, 199, 199, 182, 182, 198, 198, 198, 198, 198, 198, 198, 198, 190, 199, 199, 199, 199, 199, 199, 199, 199, 199, 199, 199, 198, 198, 199, 198, 172, 168, 164, 198, 198, 181, 195, 171, 198, 198, 198, 198, 166, 198, 167, 196, 199, 199, 199, 199, 199, 199, 199, 199, 199, 199, 199, 199, 199, 199, 199, 199, 199, 199, 199, 199, 199, 199, 194, 199, 199, 198, 198, 198, 198, 199, 198, 198, 198, 198, 198, 198, 198, 198, 188, 198, 198, 198, 198, 198, 199, 198, 198, 198, 198, 198, 199, 198, 198, 198, 190, 198, 186, 170, 188, 198, 199, 199, 199, 199, 199, 199, 199, 198, 198, 199, 199, 199, 199, 199, 198, 198, 199, 199, 199, 199, 199, 199, 199, 199, 198, 198, 198, 199, 198, 198, 198, 198, 198, 199, 199, 198, 198, 199, 199, 198, 199, 198, 198, 191, 198, 198, 198, 198, 199, 199, 199, 198, 199, 199, 199, 198, 198, 198, 199, 199, 198, 198, 199, 151, 199, 199, 199, 199, 199, 199, 199, 199, 199, 199, 199, 199, 199, 198, 198, 198, 198, 198, 198, 198, 198, 198, 198, 198, 198, 198, 198, 169, 198, 183, 198, 198, 198, 198, 198, 171, 198, 198, 198, 198, 198, 199, 199, 199, 199, 199, 198, 198, 198, 198, 198, 198, 198, 198, 198, 196, 198, 189, 199, 197, 198, 197, 198, 198, 198, 199, 199, 198, 198, 199, 199, 198, 198, 198, 198, 198, 198, 199, 198, 199, 198, 197, 197, 199, 199, 199, 198, 199, 199, 198, 177, 198, 199, 198, 199, 198, 199, 198, 198, 199, 199, 198, 198, 198, 198, 198, 199, 199, 198, 198, 198, 199, 199, 199, 198, 198, 198, 198, 196, 199, 199, 199, 194, 194, 198, 198, 198, 198, 185, 187, 198, 198, 198, 199, 199, 199, 197, 197, 197, 197, 197, 168, 152, 199, 199, 199, 199, 193, 199, 199, 198, 199, 198, 198, 198, 166, 198, 198, 185, 187, 199, 199, 199, 199, 199, 199, 199, 199, 199, 199, 199, 199, 199, 199, 198, 198, 198, 198, 198, 198, 199, 198, 163, 198, 198, 198, 198, 198, 198, 198, 198, 198, 198, 198, 198, 198, 198, 198, 198, 198, 198, 198, 198, 182, 198, 198, 198, 198, 198, 198, 198, 198, 198, 198, 198, 198, 198, 198, 199, 198, 198, 199, 199, 199, 199, 199, 199, 199, 199, 199, 199, 199, 199, 198, 198, 198, 198, 198, 198, 193, 176, 199, 198, 198, 198, 198, 171, 198, 198, 198, 198, 199, 199, 199, 199, 198, 198, 199, 199, 198, 198, 198, 198, 199, 199, 199, 199, 198, 198, 198, 199, 199, 198, 199, 199, 198, 199, 199, 198, 199, 198, 199, 199, 199, 199, 199, 199, 198, 198, 199, 199, 199, 198, 198, 199, 199, 199, 199, 199, 199, 199, 199, 199, 199, 199, 199, 198, 197, 197, 197, 197, 197, 197, 180, 198, 198, 198, 198, 198, 198, 198, 199, 199, 199, 198, 198, 198, 199, 199, 199, 199, 191, 199, 198, 198, 199, 199, 199, 168, 197, 197, 197, 180, 199, 199, 199, 199, 199, 199, 199, 199, 199, 199, 199, 199, 198, 199, 153, 199, 199, 198, 198, 198, 199, 199, 199, 199, 199, 199, 199, 199, 199, 199, 199, 199, 199, 199, 199, 199, 199, 199, 199, 199, 199, 199, 199, 199, 199, 199, 199, 198, 198, 198, 198, 198, 198, 198, 199, 199, 199, 199, 198, 198, 199, 198, 198, 197, 198, 198, 198, 199, 199, 199, 199, 198, 198, 199, 199, 198, 198, 198, 198, 198, 198, 198, 198, 199, 199, 198, 198, 198, 198, 198, 199, 198, 199, 199, 199, 199, 199, 199, 198, 198, 199, 199, 198, 199, 198, 198, 199, 199, 199, 198, 198, 198, 198, 198, 198, 198, 198, 198, 198, 198, 198, 198, 197, 198, 199, 199, 199, 198, 198, 198, 199, 199, 198, 198, 198, 198, 198, 198, 198, 190, 198, 198, 198, 198, 198, 198, 198, 198, 198, 198, 198, 198, 199, 199, 199, 199, 199, 180, 195, 179, 199, 199, 199, 199, 199, 199, 198, 198, 199, 199, 199, 199, 199, 198, 199, 199, 199, 199, 199, 199, 199, 199, 198]\n",
      "150\n"
     ]
    }
   ],
   "source": [
    "from torch import nn, optim\n",
    "import torch\n",
    "import torch.nn as nnn\n",
    "from torch.utils.data import DataLoader\n",
    "import numpy as np\n",
    "from tqdm import tqdm\n",
    "import matplotlib.pyplot as plt\n",
    "\n",
    "Ts = 0.04 # time interval for data sampling for HighD is 0.04 for other datasets are 0.1 数据采样时间间隔 15/375s\n",
    "max_len = 375 # for HighD dataset is 375 for others are 150\n",
    "\n",
    "# load data    加载包含Python对象的.npy或.npz文件，需要显式地设置allow_pickle参数为True\n",
    "Lyft_test = np.load('/kaggle/input/follow-car-datasets/data/Lyft_test_data.npy', allow_pickle=True) # 151\n",
    "Lyft_train = np.load('/kaggle/input/follow-car-datasets/data/Lyft_train_data.npy', allow_pickle=True) # 151\n",
    "Lyft_val = np.load('/kaggle/input/follow-car-datasets/data/Lyft_val_data.npy', allow_pickle=True) # 151\n",
    "NGSIM = np.load('/kaggle/input/follow-car-datasets/data/NGSIM_I_80_car_fol_event_set.npy', allow_pickle=True) # 150\n",
    "SPMD_DAS1 = np.load('/kaggle/input/follow-car-datasets/data/SPMD_das1_car_fol_event_set.npy', allow_pickle=True) # 151\n",
    "SPMD_DAS2 = np.load('/kaggle/input/follow-car-datasets/data/SPMD_das2_car_fol_event_set.npy', allow_pickle=True) # 151\n",
    "waymo = np.load('/kaggle/input/follow-car-datasets/data/waymo_filter_carfo_info_150.npy', allow_pickle=True) # 150\n",
    "# the data shape format (number of car following event, 4 dimension data, lenth of each dimension)数据形状格式（跟车事件的车辆数、4 维数据、各维数据的长度）\n",
    "# 4 dimension data= [spacing, subject_vehicle_speed, relative_speed, leading_vehicle_speed]4 维数据= [车距、后车车速、相对车速、前车车速］\n",
    "\n",
    "def DataMin(dataset):\n",
    "    data_min = []\n",
    "    for i in range(dataset.shape[0]):\n",
    "        data_min.append(dataset[i][0].size)\n",
    "    return data_min\n",
    "\n",
    "datamin = DataMin(waymo)\n",
    "print(datamin)\n",
    "print(np.min(datamin))\n",
    "\n",
    "\n"
   ]
  }
 ],
 "metadata": {
  "kaggle": {
   "accelerator": "nvidiaTeslaT4",
   "dataSources": [
    {
     "datasetId": 4330046,
     "sourceId": 7439658,
     "sourceType": "datasetVersion"
    }
   ],
   "dockerImageVersionId": 30636,
   "isGpuEnabled": true,
   "isInternetEnabled": true,
   "language": "python",
   "sourceType": "notebook"
  },
  "kernelspec": {
   "display_name": "Python 3",
   "language": "python",
   "name": "python3"
  },
  "language_info": {
   "codemirror_mode": {
    "name": "ipython",
    "version": 3
   },
   "file_extension": ".py",
   "mimetype": "text/x-python",
   "name": "python",
   "nbconvert_exporter": "python",
   "pygments_lexer": "ipython3",
   "version": "3.10.12"
  },
  "papermill": {
   "default_parameters": {},
   "duration": 198.791777,
   "end_time": "2024-01-21T08:48:09.841000",
   "environment_variables": {},
   "exception": null,
   "input_path": "__notebook__.ipynb",
   "output_path": "__notebook__.ipynb",
   "parameters": {},
   "start_time": "2024-01-21T08:44:51.049223",
   "version": "2.4.0"
  }
 },
 "nbformat": 4,
 "nbformat_minor": 5
}
